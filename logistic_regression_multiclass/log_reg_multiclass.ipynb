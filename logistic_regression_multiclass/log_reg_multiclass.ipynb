{
 "cells": [
  {
   "cell_type": "code",
   "execution_count": 1,
   "id": "widespread-algorithm",
   "metadata": {},
   "outputs": [],
   "source": [
    "%matplotlib inline\n",
    "import matplotlib.pyplot as plt\n",
    "from sklearn.datasets import load_digits\n",
    "import warnings\n",
    "warnings.filterwarnings(\"ignore\")"
   ]
  },
  {
   "cell_type": "code",
   "execution_count": 2,
   "id": "surface-summer",
   "metadata": {},
   "outputs": [],
   "source": [
    "digits = load_digits()"
   ]
  },
  {
   "cell_type": "code",
   "execution_count": 3,
   "id": "radio-devices",
   "metadata": {},
   "outputs": [
    {
     "data": {
      "text/plain": [
       "['DESCR', 'data', 'feature_names', 'frame', 'images', 'target', 'target_names']"
      ]
     },
     "execution_count": 3,
     "metadata": {},
     "output_type": "execute_result"
    }
   ],
   "source": [
    "dir(digits)"
   ]
  },
  {
   "cell_type": "code",
   "execution_count": 4,
   "id": "painful-horizon",
   "metadata": {},
   "outputs": [
    {
     "data": {
      "text/plain": [
       "array([ 0.,  0.,  5., 13.,  9.,  1.,  0.,  0.,  0.,  0., 13., 15., 10.,\n",
       "       15.,  5.,  0.,  0.,  3., 15.,  2.,  0., 11.,  8.,  0.,  0.,  4.,\n",
       "       12.,  0.,  0.,  8.,  8.,  0.,  0.,  5.,  8.,  0.,  0.,  9.,  8.,\n",
       "        0.,  0.,  4., 11.,  0.,  1., 12.,  7.,  0.,  0.,  2., 14.,  5.,\n",
       "       10., 12.,  0.,  0.,  0.,  0.,  6., 13., 10.,  0.,  0.,  0.])"
      ]
     },
     "execution_count": 4,
     "metadata": {},
     "output_type": "execute_result"
    }
   ],
   "source": [
    "digits.data[0]"
   ]
  },
  {
   "cell_type": "code",
   "execution_count": 5,
   "id": "hybrid-vector",
   "metadata": {},
   "outputs": [
    {
     "data": {
      "text/plain": [
       "64"
      ]
     },
     "execution_count": 5,
     "metadata": {},
     "output_type": "execute_result"
    }
   ],
   "source": [
    "len(digits.data[0])  # it's an 8x8 image"
   ]
  },
  {
   "cell_type": "code",
   "execution_count": 6,
   "id": "external-enlargement",
   "metadata": {},
   "outputs": [
    {
     "data": {
      "text/plain": [
       "<Figure size 432x288 with 0 Axes>"
      ]
     },
     "metadata": {},
     "output_type": "display_data"
    },
    {
     "data": {
      "image/png": "[encoded data removed]",
      "text/plain": [
       "<Figure size 288x288 with 1 Axes>"
      ]
     },
     "metadata": {
      "needs_background": "light"
     },
     "output_type": "display_data"
    },
    {
     "data": {
      "image/png": "[encoded data removed]",
      "text/plain": [
       "<Figure size 288x288 with 1 Axes>"
      ]
     },
     "metadata": {
      "needs_background": "light"
     },
     "output_type": "display_data"
    },
    {
     "data": {
      "image/png": "[encoded data removed]",
      "text/plain": [
       "<Figure size 288x288 with 1 Axes>"
      ]
     },
     "metadata": {
      "needs_background": "light"
     },
     "output_type": "display_data"
    },
    {
     "data": {
      "image/png": "[encoded data removed]",
      "text/plain": [
       "<Figure size 288x288 with 1 Axes>"
      ]
     },
     "metadata": {
      "needs_background": "light"
     },
     "output_type": "display_data"
    },
    {
     "data": {
      "image/png": "[encoded data removed]",
      "text/plain": [
       "<Figure size 288x288 with 1 Axes>"
      ]
     },
     "metadata": {
      "needs_background": "light"
     },
     "output_type": "display_data"
    }
   ],
   "source": [
    "plt.gray()\n",
    "for i in range(5):\n",
    "    plt.matshow(digits.images[i])"
   ]
  },
  {
   "cell_type": "code",
   "execution_count": 7,
   "id": "nasty-packing",
   "metadata": {},
   "outputs": [
    {
     "data": {
      "text/plain": [
       "array([0, 1, 2, 3, 4])"
      ]
     },
     "execution_count": 7,
     "metadata": {},
     "output_type": "execute_result"
    }
   ],
   "source": [
    "digits.target[:5]"
   ]
  },
  {
   "cell_type": "markdown",
   "id": "practical-arrival",
   "metadata": {},
   "source": [
    "we can use *data* (predictors) and *target* (label) to train our model"
   ]
  },
  {
   "cell_type": "markdown",
   "id": "smart-rochester",
   "metadata": {},
   "source": [
    "## training and testing data"
   ]
  },
  {
   "cell_type": "code",
   "execution_count": 8,
   "id": "amber-cameroon",
   "metadata": {},
   "outputs": [],
   "source": [
    "from sklearn.model_selection import train_test_split\n",
    "\n",
    "X_train, X_test, y_train, y_test = train_test_split(digits.data, digits.target, test_size=0.2)  "
   ]
  },
  {
   "cell_type": "code",
   "execution_count": 9,
   "id": "earlier-drain",
   "metadata": {},
   "outputs": [
    {
     "data": {
      "text/plain": [
       "1437"
      ]
     },
     "execution_count": 9,
     "metadata": {},
     "output_type": "execute_result"
    }
   ],
   "source": [
    "len(X_train)"
   ]
  },
  {
   "cell_type": "code",
   "execution_count": 10,
   "id": "romance-intersection",
   "metadata": {},
   "outputs": [
    {
     "data": {
      "text/plain": [
       "360"
      ]
     },
     "execution_count": 10,
     "metadata": {},
     "output_type": "execute_result"
    }
   ],
   "source": [
    "len(X_test)  # 20% of the dataset"
   ]
  },
  {
   "cell_type": "markdown",
   "id": "chicken-alias",
   "metadata": {},
   "source": [
    "## applying Model"
   ]
  },
  {
   "cell_type": "code",
   "execution_count": 11,
   "id": "future-analyst",
   "metadata": {},
   "outputs": [
    {
     "data": {
      "text/plain": [
       "LogisticRegression(random_state=42)"
      ]
     },
     "execution_count": 11,
     "metadata": {},
     "output_type": "execute_result"
    }
   ],
   "source": [
    "from sklearn.linear_model import LogisticRegression\n",
    "\n",
    "model = LogisticRegression(random_state=42)\n",
    "model.fit(X_train, y_train)"
   ]
  },
  {
   "cell_type": "code",
   "execution_count": 12,
   "id": "complicated-plasma",
   "metadata": {},
   "outputs": [
    {
     "data": {
      "text/plain": [
       "0.9527777777777777"
      ]
     },
     "execution_count": 12,
     "metadata": {},
     "output_type": "execute_result"
    }
   ],
   "source": [
    "model.score(X_test, y_test)  # it calculates the y predicted values and compare them to the actual y values"
   ]
  },
  {
   "cell_type": "markdown",
   "id": "atlantic-costa",
   "metadata": {},
   "source": [
    "# making predictions"
   ]
  },
  {
   "cell_type": "markdown",
   "id": "sorted-seafood",
   "metadata": {},
   "source": [
    "### on random sample:"
   ]
  },
  {
   "cell_type": "code",
   "execution_count": 13,
   "id": "dedicated-olive",
   "metadata": {},
   "outputs": [
    {
     "data": {
      "image/png": "[encoded data removed]",
      "text/plain": [
       "<Figure size 288x288 with 1 Axes>"
      ]
     },
     "metadata": {
      "needs_background": "light"
     },
     "output_type": "display_data"
    }
   ],
   "source": [
    "plt.matshow(digits.images[67]);"
   ]
  },
  {
   "cell_type": "code",
   "execution_count": 14,
   "id": "contrary-mileage",
   "metadata": {},
   "outputs": [
    {
     "data": {
      "text/plain": [
       "6"
      ]
     },
     "execution_count": 14,
     "metadata": {},
     "output_type": "execute_result"
    }
   ],
   "source": [
    "digits.target[67]"
   ]
  },
  {
   "cell_type": "code",
   "execution_count": 15,
   "id": "combined-return",
   "metadata": {},
   "outputs": [
    {
     "data": {
      "text/plain": [
       "array([6])"
      ]
     },
     "execution_count": 15,
     "metadata": {},
     "output_type": "execute_result"
    }
   ],
   "source": [
    "model.predict([digits.data[67]])  # supplying multidimensional array"
   ]
  },
  {
   "cell_type": "code",
   "execution_count": 16,
   "id": "alternate-password",
   "metadata": {},
   "outputs": [
    {
     "data": {
      "text/plain": [
       "array([0, 1, 2, 3, 4])"
      ]
     },
     "execution_count": 16,
     "metadata": {},
     "output_type": "execute_result"
    }
   ],
   "source": [
    "model.predict(digits.data[0:5])  # predicting first 5 samples"
   ]
  },
  {
   "cell_type": "markdown",
   "id": "unexpected-video",
   "metadata": {},
   "source": [
    "## confusion matrix"
   ]
  },
  {
   "cell_type": "code",
   "execution_count": 17,
   "id": "aerial-cologne",
   "metadata": {},
   "outputs": [
    {
     "data": {
      "text/plain": [
       "array([[29,  0,  0,  0,  0,  1,  0,  0,  0,  0],\n",
       "       [ 0, 33,  0,  0,  0,  0,  0,  0,  0,  0],\n",
       "       [ 0,  0, 39,  0,  0,  0,  0,  0,  0,  0],\n",
       "       [ 0,  0,  0, 30,  0,  1,  0,  0,  0,  0],\n",
       "       [ 0,  0,  0,  0, 41,  0,  0,  1,  0,  0],\n",
       "       [ 0,  1,  0,  1,  0, 23,  0,  1,  0,  0],\n",
       "       [ 0,  2,  0,  0,  1,  1, 32,  0,  1,  0],\n",
       "       [ 0,  0,  0,  0,  0,  0,  0, 38,  0,  0],\n",
       "       [ 0,  2,  0,  0,  0,  1,  0,  0, 40,  1],\n",
       "       [ 0,  0,  0,  0,  0,  2,  0,  0,  0, 38]], dtype=int64)"
      ]
     },
     "execution_count": 17,
     "metadata": {},
     "output_type": "execute_result"
    }
   ],
   "source": [
    "from sklearn.metrics import confusion_matrix\n",
    "\n",
    "y_predicted = model.predict(X_test)\n",
    "cm = confusion_matrix(y_test, y_predicted) # 2x2 dimensional array\n",
    "cm"
   ]
  },
  {
   "cell_type": "code",
   "execution_count": 18,
   "id": "pacific-appraisal",
   "metadata": {},
   "outputs": [
    {
     "data": {
      "image/png": "[encoded data removed]",
      "text/plain": [
       "<Figure size 1008x504 with 2 Axes>"
      ]
     },
     "metadata": {
      "needs_background": "light"
     },
     "output_type": "display_data"
    }
   ],
   "source": [
    "import seaborn as sns\n",
    "plt.figure(figsize=(14,7))\n",
    "sns.heatmap(cm, annot=True)\n",
    "plt.xlabel('predicted')\n",
    "plt.ylabel('true');"
   ]
  },
  {
   "cell_type": "code",
   "execution_count": null,
   "id": "surgical-flight",
   "metadata": {},
   "outputs": [],
   "source": []
  },
  {
   "cell_type": "markdown",
   "id": "cognitive-light",
   "metadata": {},
   "source": [
    "# exercise"
   ]
  },
  {
   "cell_type": "code",
   "execution_count": 26,
   "id": "automotive-measure",
   "metadata": {},
   "outputs": [
    {
     "data": {
      "text/plain": [
       "['DESCR',\n",
       " 'data',\n",
       " 'feature_names',\n",
       " 'filename',\n",
       " 'frame',\n",
       " 'target',\n",
       " 'target_names']"
      ]
     },
     "execution_count": 26,
     "metadata": {},
     "output_type": "execute_result"
    }
   ],
   "source": [
    "from sklearn.datasets import load_iris\n",
    "\n",
    "iris = load_iris()\n",
    "dir(iris)"
   ]
  },
  {
   "cell_type": "code",
   "execution_count": 32,
   "id": "capital-madness",
   "metadata": {},
   "outputs": [
    {
     "data": {
      "text/plain": [
       "150"
      ]
     },
     "execution_count": 32,
     "metadata": {},
     "output_type": "execute_result"
    }
   ],
   "source": [
    "len(iris.data)"
   ]
  },
  {
   "cell_type": "code",
   "execution_count": 29,
   "id": "pending-sixth",
   "metadata": {},
   "outputs": [
    {
     "data": {
      "text/plain": [
       "150"
      ]
     },
     "execution_count": 29,
     "metadata": {},
     "output_type": "execute_result"
    }
   ],
   "source": [
    "len(iris.target)"
   ]
  },
  {
   "cell_type": "code",
   "execution_count": 39,
   "id": "talented-newark",
   "metadata": {},
   "outputs": [
    {
     "data": {
      "text/plain": [
       "['sepal length (cm)',\n",
       " 'sepal width (cm)',\n",
       " 'petal length (cm)',\n",
       " 'petal width (cm)']"
      ]
     },
     "execution_count": 39,
     "metadata": {},
     "output_type": "execute_result"
    }
   ],
   "source": [
    "iris.feature_names"
   ]
  },
  {
   "cell_type": "code",
   "execution_count": 40,
   "id": "constitutional-fortune",
   "metadata": {},
   "outputs": [
    {
     "data": {
      "text/plain": [
       "array(['setosa', 'versicolor', 'virginica'], dtype='<U10')"
      ]
     },
     "execution_count": 40,
     "metadata": {},
     "output_type": "execute_result"
    }
   ],
   "source": [
    "iris.target_names"
   ]
  },
  {
   "cell_type": "markdown",
   "id": "literary-crime",
   "metadata": {},
   "source": [
    "looking at dependent and independent variables of first 5 samples: "
   ]
  },
  {
   "cell_type": "code",
   "execution_count": 52,
   "id": "august-bahrain",
   "metadata": {},
   "outputs": [
    {
     "data": {
      "text/plain": [
       "array([[5.1, 3.5, 1.4, 0.2],\n",
       "       [4.9, 3. , 1.4, 0.2],\n",
       "       [4.7, 3.2, 1.3, 0.2],\n",
       "       [4.6, 3.1, 1.5, 0.2],\n",
       "       [5. , 3.6, 1.4, 0.2]])"
      ]
     },
     "execution_count": 52,
     "metadata": {},
     "output_type": "execute_result"
    }
   ],
   "source": [
    "iris.data[:5]"
   ]
  },
  {
   "cell_type": "code",
   "execution_count": 53,
   "id": "facial-finance",
   "metadata": {},
   "outputs": [
    {
     "data": {
      "text/plain": [
       "array([0, 0, 0, 0, 0])"
      ]
     },
     "execution_count": 53,
     "metadata": {},
     "output_type": "execute_result"
    }
   ],
   "source": [
    "iris.target[:5]"
   ]
  },
  {
   "cell_type": "code",
   "execution_count": 56,
   "id": "instrumental-duplicate",
   "metadata": {},
   "outputs": [
    {
     "data": {
      "text/plain": [
       "'setosa'"
      ]
     },
     "execution_count": 56,
     "metadata": {},
     "output_type": "execute_result"
    }
   ],
   "source": [
    "iris.target_names[0]  # first 5 samples are all 'setosa'"
   ]
  },
  {
   "cell_type": "markdown",
   "id": "fatty-tourist",
   "metadata": {},
   "source": [
    "## train, test split"
   ]
  },
  {
   "cell_type": "code",
   "execution_count": 72,
   "id": "invisible-bones",
   "metadata": {},
   "outputs": [],
   "source": [
    "X = iris.data\n",
    "y = iris.target\n",
    "\n",
    "X_train, X_test, y_train, y_test = train_test_split(X, y, test_size=0.3)"
   ]
  },
  {
   "cell_type": "code",
   "execution_count": 74,
   "id": "automated-mongolia",
   "metadata": {},
   "outputs": [
    {
     "data": {
      "text/plain": [
       "105"
      ]
     },
     "execution_count": 74,
     "metadata": {},
     "output_type": "execute_result"
    }
   ],
   "source": [
    "len(X_train)"
   ]
  },
  {
   "cell_type": "code",
   "execution_count": 75,
   "id": "distant-triumph",
   "metadata": {},
   "outputs": [
    {
     "data": {
      "text/plain": [
       "45"
      ]
     },
     "execution_count": 75,
     "metadata": {},
     "output_type": "execute_result"
    }
   ],
   "source": [
    "len(X_test)"
   ]
  },
  {
   "cell_type": "markdown",
   "id": "single-marketplace",
   "metadata": {},
   "source": [
    "## applying Model"
   ]
  },
  {
   "cell_type": "code",
   "execution_count": 76,
   "id": "technical-jurisdiction",
   "metadata": {},
   "outputs": [
    {
     "data": {
      "text/plain": [
       "0.9555555555555556"
      ]
     },
     "execution_count": 76,
     "metadata": {},
     "output_type": "execute_result"
    }
   ],
   "source": [
    "lr = LogisticRegression(random_state=2)\n",
    "lr.fit(X_train, y_train)\n",
    "lr.score(X_test, y_test)"
   ]
  },
  {
   "cell_type": "markdown",
   "id": "cardiac-performance",
   "metadata": {},
   "source": [
    "## making some prediction"
   ]
  },
  {
   "cell_type": "code",
   "execution_count": null,
   "id": "balanced-success",
   "metadata": {},
   "outputs": [],
   "source": [
    "# some random prediction"
   ]
  },
  {
   "cell_type": "code",
   "execution_count": 78,
   "id": "japanese-dollar",
   "metadata": {},
   "outputs": [
    {
     "data": {
      "text/plain": [
       "array([0])"
      ]
     },
     "execution_count": 78,
     "metadata": {},
     "output_type": "execute_result"
    }
   ],
   "source": [
    "lr.predict([[5,3,2,0.5]])"
   ]
  },
  {
   "cell_type": "code",
   "execution_count": 80,
   "id": "stretch-conducting",
   "metadata": {},
   "outputs": [
    {
     "data": {
      "text/plain": [
       "array([1])"
      ]
     },
     "execution_count": 80,
     "metadata": {},
     "output_type": "execute_result"
    }
   ],
   "source": [
    "lr.predict([[7,1,2,0.5]])"
   ]
  },
  {
   "cell_type": "code",
   "execution_count": 86,
   "id": "imposed-oasis",
   "metadata": {},
   "outputs": [
    {
     "data": {
      "text/plain": [
       "array([2])"
      ]
     },
     "execution_count": 86,
     "metadata": {},
     "output_type": "execute_result"
    }
   ],
   "source": [
    "lr.predict([[7,3,3,7]])"
   ]
  },
  {
   "cell_type": "code",
   "execution_count": 87,
   "id": "helpful-briefing",
   "metadata": {},
   "outputs": [],
   "source": [
    "# making some prediction from random sample"
   ]
  },
  {
   "cell_type": "code",
   "execution_count": 89,
   "id": "white-special",
   "metadata": {},
   "outputs": [
    {
     "data": {
      "text/plain": [
       "array([1])"
      ]
     },
     "execution_count": 89,
     "metadata": {},
     "output_type": "execute_result"
    }
   ],
   "source": [
    "lr.predict([iris.data[52]])"
   ]
  },
  {
   "cell_type": "code",
   "execution_count": 90,
   "id": "subsequent-research",
   "metadata": {},
   "outputs": [
    {
     "data": {
      "text/plain": [
       "1"
      ]
     },
     "execution_count": 90,
     "metadata": {},
     "output_type": "execute_result"
    }
   ],
   "source": [
    "iris.target[52]"
   ]
  },
  {
   "cell_type": "code",
   "execution_count": 91,
   "id": "written-difference",
   "metadata": {},
   "outputs": [
    {
     "data": {
      "text/plain": [
       "array([2, 2, 2, 2, 2])"
      ]
     },
     "execution_count": 91,
     "metadata": {},
     "output_type": "execute_result"
    }
   ],
   "source": [
    "# predicting last 5 samples\n",
    "lr.predict(iris.data[-5:])"
   ]
  },
  {
   "cell_type": "code",
   "execution_count": 92,
   "id": "paperback-keeping",
   "metadata": {},
   "outputs": [
    {
     "data": {
      "text/plain": [
       "array([0, 0, 0, 0, 0])"
      ]
     },
     "execution_count": 92,
     "metadata": {},
     "output_type": "execute_result"
    }
   ],
   "source": [
    "# predicting first 5 samples\n",
    "lr.predict(iris.data[:5])"
   ]
  },
  {
   "cell_type": "code",
   "execution_count": 94,
   "id": "proper-electron",
   "metadata": {},
   "outputs": [
    {
     "data": {
      "text/plain": [
       "array([1, 1, 1, 1, 1])"
      ]
     },
     "execution_count": 94,
     "metadata": {},
     "output_type": "execute_result"
    }
   ],
   "source": [
    "# predicting some samples in the middle\n",
    "lr.predict(iris.data[60:65])"
   ]
  },
  {
   "cell_type": "code",
   "execution_count": 98,
   "id": "square-prison",
   "metadata": {},
   "outputs": [
    {
     "data": {
      "text/plain": [
       "array([0, 0, 1, 2])"
      ]
     },
     "execution_count": 98,
     "metadata": {},
     "output_type": "execute_result"
    }
   ],
   "source": [
    "# predicting random samples\n",
    "lr.predict([iris.data[3], iris.data[15], iris.data[78], iris.data[123]])"
   ]
  },
  {
   "cell_type": "markdown",
   "id": "european-butterfly",
   "metadata": {},
   "source": [
    "# confusion matrix"
   ]
  },
  {
   "cell_type": "code",
   "execution_count": 99,
   "id": "timely-biography",
   "metadata": {},
   "outputs": [],
   "source": [
    "# storing all predictions\n",
    "y_pred = lr.predict(X_test)"
   ]
  },
  {
   "cell_type": "code",
   "execution_count": 100,
   "id": "associate-mention",
   "metadata": {},
   "outputs": [
    {
     "data": {
      "text/plain": [
       "array([[15,  0,  0],\n",
       "       [ 0, 13,  2],\n",
       "       [ 0,  0, 15]], dtype=int64)"
      ]
     },
     "execution_count": 100,
     "metadata": {},
     "output_type": "execute_result"
    }
   ],
   "source": [
    "cm_iris = confusion_matrix(y_test, y_pred)\n",
    "cm_iris"
   ]
  },
  {
   "cell_type": "code",
   "execution_count": 101,
   "id": "sixth-campaign",
   "metadata": {},
   "outputs": [
    {
     "data": {
      "image/png": "[encoded data removed]",
      "text/plain": [
       "<Figure size 1008x504 with 2 Axes>"
      ]
     },
     "metadata": {
      "needs_background": "light"
     },
     "output_type": "display_data"
    }
   ],
   "source": [
    "plt.figure(figsize=(14,7))\n",
    "sns.heatmap(cm_iris, annot=True)\n",
    "plt.xlabel('predicted')\n",
    "plt.ylabel('true');"
   ]
  },
  {
   "cell_type": "code",
   "execution_count": 103,
   "id": "confident-street",
   "metadata": {},
   "outputs": [
    {
     "data": {
      "text/plain": [
       "('versicolor', 'virginica')"
      ]
     },
     "execution_count": 103,
     "metadata": {},
     "output_type": "execute_result"
    }
   ],
   "source": [
    "iris.target_names[1], iris.target_names[2]"
   ]
  },
  {
   "cell_type": "markdown",
   "id": "adapted-deadline",
   "metadata": {},
   "source": [
    "the model only made 2 errors, namely misclassifying two versicolor as virginica"
   ]
  },
  {
   "cell_type": "code",
   "execution_count": null,
   "id": "unable-conflict",
   "metadata": {},
   "outputs": [],
   "source": []
  }
 ],
 "metadata": {
  "kernelspec": {
   "display_name": "Python 3",
   "language": "python",
   "name": "python3"
  },
  "language_info": {
   "codemirror_mode": {
    "name": "ipython",
    "version": 3
   },
   "file_extension": ".py",
   "mimetype": "text/x-python",
   "name": "python",
   "nbconvert_exporter": "python",
   "pygments_lexer": "ipython3",
   "version": "3.7.9"
  }
 },
 "nbformat": 4,
 "nbformat_minor": 5
}
